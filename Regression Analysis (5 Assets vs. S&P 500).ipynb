{
 "cells": [
  {
   "cell_type": "code",
   "execution_count": 65,
   "metadata": {
    "colab": {
     "base_uri": "https://localhost:8080/",
     "height": 680
    },
    "colab_type": "code",
    "executionInfo": {
     "elapsed": 7967,
     "status": "ok",
     "timestamp": 1576133632613,
     "user": {
      "displayName": "Hyunsoo Kim",
      "photoUrl": "",
      "userId": "13555375600564903636"
     },
     "user_tz": 300
    },
    "id": "eEZD6AbndZ4a",
    "outputId": "dd84e4ae-a4e4-45f0-fa88-63ad235f040d"
   },
   "outputs": [],
   "source": [
    "import numpy as np\n",
    "import pandas as pd\n",
    "import datetime\n",
    "import quandl"
   ]
  },
  {
   "cell_type": "code",
   "execution_count": 3,
   "metadata": {
    "colab": {
     "base_uri": "https://localhost:8080/",
     "height": 235
    },
    "colab_type": "code",
    "executionInfo": {
     "elapsed": 794,
     "status": "ok",
     "timestamp": 1576133637151,
     "user": {
      "displayName": "Hyunsoo Kim",
      "photoUrl": "",
      "userId": "13555375600564903636"
     },
     "user_tz": 300
    },
    "id": "k0Lv_F4yiHjl",
    "outputId": "f0570b46-0937-4810-8c2d-01bc370d4974"
   },
   "outputs": [
    {
     "data": {
      "text/html": [
       "<div>\n",
       "<style scoped>\n",
       "    .dataframe tbody tr th:only-of-type {\n",
       "        vertical-align: middle;\n",
       "    }\n",
       "\n",
       "    .dataframe tbody tr th {\n",
       "        vertical-align: top;\n",
       "    }\n",
       "\n",
       "    .dataframe thead th {\n",
       "        text-align: right;\n",
       "    }\n",
       "</style>\n",
       "<table border=\"1\" class=\"dataframe\">\n",
       "  <thead>\n",
       "    <tr style=\"text-align: right;\">\n",
       "      <th></th>\n",
       "      <th>Hong Kong 8:30</th>\n",
       "      <th>Hong Kong 14:00</th>\n",
       "      <th>London 09:00</th>\n",
       "      <th>New York 9:30</th>\n",
       "    </tr>\n",
       "    <tr>\n",
       "      <th>Date</th>\n",
       "      <th></th>\n",
       "      <th></th>\n",
       "      <th></th>\n",
       "      <th></th>\n",
       "    </tr>\n",
       "  </thead>\n",
       "  <tbody>\n",
       "    <tr>\n",
       "      <th>2018-01-02</th>\n",
       "      <td>1073.0</td>\n",
       "      <td>1078.0</td>\n",
       "      <td>1077.0</td>\n",
       "      <td>1089.0</td>\n",
       "    </tr>\n",
       "    <tr>\n",
       "      <th>2018-01-03</th>\n",
       "      <td>1100.0</td>\n",
       "      <td>1098.0</td>\n",
       "      <td>1095.0</td>\n",
       "      <td>1091.0</td>\n",
       "    </tr>\n",
       "    <tr>\n",
       "      <th>2018-01-04</th>\n",
       "      <td>1088.0</td>\n",
       "      <td>1090.0</td>\n",
       "      <td>1104.0</td>\n",
       "      <td>1104.0</td>\n",
       "    </tr>\n",
       "    <tr>\n",
       "      <th>2018-01-05</th>\n",
       "      <td>1106.0</td>\n",
       "      <td>1106.0</td>\n",
       "      <td>1104.0</td>\n",
       "      <td>1096.0</td>\n",
       "    </tr>\n",
       "    <tr>\n",
       "      <th>2018-01-08</th>\n",
       "      <td>1100.0</td>\n",
       "      <td>1101.0</td>\n",
       "      <td>1104.0</td>\n",
       "      <td>1097.0</td>\n",
       "    </tr>\n",
       "  </tbody>\n",
       "</table>\n",
       "</div>"
      ],
      "text/plain": [
       "            Hong Kong 8:30  Hong Kong 14:00  London 09:00  New York 9:30\n",
       "Date                                                                    \n",
       "2018-01-02          1073.0           1078.0        1077.0         1089.0\n",
       "2018-01-03          1100.0           1098.0        1095.0         1091.0\n",
       "2018-01-04          1088.0           1090.0        1104.0         1104.0\n",
       "2018-01-05          1106.0           1106.0        1104.0         1096.0\n",
       "2018-01-08          1100.0           1101.0        1104.0         1097.0"
      ]
     },
     "execution_count": 3,
     "metadata": {},
     "output_type": "execute_result"
    }
   ],
   "source": [
    "quandl.ApiConfig.api_key = 'sGoMaA6d9ssqDr7J88iS'\n",
    "palladium_data = quandl.get(\"JOHNMATT/PALL\", start_date = \"2018-01-01\", end_date = \"2018-12-31\")\n",
    "palladium_data.head()"
   ]
  },
  {
   "cell_type": "code",
   "execution_count": 4,
   "metadata": {
    "colab": {
     "base_uri": "https://localhost:8080/",
     "height": 34
    },
    "colab_type": "code",
    "executionInfo": {
     "elapsed": 458,
     "status": "ok",
     "timestamp": 1576133638548,
     "user": {
      "displayName": "Hyunsoo Kim",
      "photoUrl": "",
      "userId": "13555375600564903636"
     },
     "user_tz": 300
    },
    "id": "UWLzPkayF3ex",
    "outputId": "4910bd21-b570-4bd1-e215-1d9b2f4d16f9"
   },
   "outputs": [
    {
     "data": {
      "text/plain": [
       "246"
      ]
     },
     "execution_count": 4,
     "metadata": {},
     "output_type": "execute_result"
    }
   ],
   "source": [
    "palladium_data['New York 9:30'].count()"
   ]
  },
  {
   "cell_type": "code",
   "execution_count": 5,
   "metadata": {
    "colab": {
     "base_uri": "https://localhost:8080/",
     "height": 235
    },
    "colab_type": "code",
    "executionInfo": {
     "elapsed": 781,
     "status": "ok",
     "timestamp": 1576133640209,
     "user": {
      "displayName": "Hyunsoo Kim",
      "photoUrl": "",
      "userId": "13555375600564903636"
     },
     "user_tz": 300
    },
    "id": "W6EuL9zOiZQK",
    "outputId": "808ed2a6-2092-43c7-a433-1b44517dba0c"
   },
   "outputs": [
    {
     "data": {
      "text/html": [
       "<div>\n",
       "<style scoped>\n",
       "    .dataframe tbody tr th:only-of-type {\n",
       "        vertical-align: middle;\n",
       "    }\n",
       "\n",
       "    .dataframe tbody tr th {\n",
       "        vertical-align: top;\n",
       "    }\n",
       "\n",
       "    .dataframe thead th {\n",
       "        text-align: right;\n",
       "    }\n",
       "</style>\n",
       "<table border=\"1\" class=\"dataframe\">\n",
       "  <thead>\n",
       "    <tr style=\"text-align: right;\">\n",
       "      <th></th>\n",
       "      <th>Value</th>\n",
       "    </tr>\n",
       "    <tr>\n",
       "      <th>Date</th>\n",
       "      <th></th>\n",
       "    </tr>\n",
       "  </thead>\n",
       "  <tbody>\n",
       "    <tr>\n",
       "      <th>2018-01-01</th>\n",
       "      <td>1291.00</td>\n",
       "    </tr>\n",
       "    <tr>\n",
       "      <th>2018-01-02</th>\n",
       "      <td>1312.05</td>\n",
       "    </tr>\n",
       "    <tr>\n",
       "      <th>2018-01-03</th>\n",
       "      <td>1314.90</td>\n",
       "    </tr>\n",
       "    <tr>\n",
       "      <th>2018-01-04</th>\n",
       "      <td>1314.50</td>\n",
       "    </tr>\n",
       "    <tr>\n",
       "      <th>2018-01-05</th>\n",
       "      <td>1317.15</td>\n",
       "    </tr>\n",
       "  </tbody>\n",
       "</table>\n",
       "</div>"
      ],
      "text/plain": [
       "              Value\n",
       "Date               \n",
       "2018-01-01  1291.00\n",
       "2018-01-02  1312.05\n",
       "2018-01-03  1314.90\n",
       "2018-01-04  1314.50\n",
       "2018-01-05  1317.15"
      ]
     },
     "execution_count": 5,
     "metadata": {},
     "output_type": "execute_result"
    }
   ],
   "source": [
    "gold_data = quandl.get(\"WGC/GOLD_DAILY_USD\", start_date = \"2018-01-01\", end_date = \"2018-12-31\")\n",
    "gold_data.head()"
   ]
  },
  {
   "cell_type": "code",
   "execution_count": 6,
   "metadata": {
    "colab": {
     "base_uri": "https://localhost:8080/",
     "height": 51
    },
    "colab_type": "code",
    "executionInfo": {
     "elapsed": 510,
     "status": "ok",
     "timestamp": 1576133641661,
     "user": {
      "displayName": "Hyunsoo Kim",
      "photoUrl": "",
      "userId": "13555375600564903636"
     },
     "user_tz": 300
    },
    "id": "PHlnbMovGJOc",
    "outputId": "59870584-74e2-435d-d6b3-85ddda8182a1"
   },
   "outputs": [
    {
     "data": {
      "text/plain": [
       "Value    261\n",
       "dtype: int64"
      ]
     },
     "execution_count": 6,
     "metadata": {},
     "output_type": "execute_result"
    }
   ],
   "source": [
    "gold_data.count()"
   ]
  },
  {
   "cell_type": "code",
   "execution_count": 7,
   "metadata": {
    "colab": {
     "base_uri": "https://localhost:8080/",
     "height": 235
    },
    "colab_type": "code",
    "executionInfo": {
     "elapsed": 1006,
     "status": "ok",
     "timestamp": 1576133643056,
     "user": {
      "displayName": "Hyunsoo Kim",
      "photoUrl": "",
      "userId": "13555375600564903636"
     },
     "user_tz": 300
    },
    "id": "W3kl4xEJ29Ez",
    "outputId": "f099364e-8a01-4bd7-b0ef-b65f28c7a3ab"
   },
   "outputs": [
    {
     "data": {
      "text/html": [
       "<div>\n",
       "<style scoped>\n",
       "    .dataframe tbody tr th:only-of-type {\n",
       "        vertical-align: middle;\n",
       "    }\n",
       "\n",
       "    .dataframe tbody tr th {\n",
       "        vertical-align: top;\n",
       "    }\n",
       "\n",
       "    .dataframe thead th {\n",
       "        text-align: right;\n",
       "    }\n",
       "</style>\n",
       "<table border=\"1\" class=\"dataframe\">\n",
       "  <thead>\n",
       "    <tr style=\"text-align: right;\">\n",
       "      <th></th>\n",
       "      <th>USD AM</th>\n",
       "      <th>EUR AM</th>\n",
       "      <th>GBP AM</th>\n",
       "      <th>USD PM</th>\n",
       "      <th>EUR PM</th>\n",
       "      <th>GBP PM</th>\n",
       "    </tr>\n",
       "    <tr>\n",
       "      <th>Date</th>\n",
       "      <th></th>\n",
       "      <th></th>\n",
       "      <th></th>\n",
       "      <th></th>\n",
       "      <th></th>\n",
       "      <th></th>\n",
       "    </tr>\n",
       "  </thead>\n",
       "  <tbody>\n",
       "    <tr>\n",
       "      <th>2018-01-02</th>\n",
       "      <td>937.0</td>\n",
       "      <td>776.63</td>\n",
       "      <td>690.75</td>\n",
       "      <td>936.0</td>\n",
       "      <td>776.44</td>\n",
       "      <td>690.52</td>\n",
       "    </tr>\n",
       "    <tr>\n",
       "      <th>2018-01-03</th>\n",
       "      <td>944.0</td>\n",
       "      <td>784.05</td>\n",
       "      <td>694.88</td>\n",
       "      <td>951.0</td>\n",
       "      <td>790.85</td>\n",
       "      <td>701.59</td>\n",
       "    </tr>\n",
       "    <tr>\n",
       "      <th>2018-01-04</th>\n",
       "      <td>953.0</td>\n",
       "      <td>791.86</td>\n",
       "      <td>703.84</td>\n",
       "      <td>959.0</td>\n",
       "      <td>794.53</td>\n",
       "      <td>708.53</td>\n",
       "    </tr>\n",
       "    <tr>\n",
       "      <th>2018-01-05</th>\n",
       "      <td>963.0</td>\n",
       "      <td>799.50</td>\n",
       "      <td>711.75</td>\n",
       "      <td>966.0</td>\n",
       "      <td>801.33</td>\n",
       "      <td>712.13</td>\n",
       "    </tr>\n",
       "    <tr>\n",
       "      <th>2018-01-08</th>\n",
       "      <td>967.0</td>\n",
       "      <td>806.51</td>\n",
       "      <td>714.97</td>\n",
       "      <td>971.0</td>\n",
       "      <td>811.19</td>\n",
       "      <td>716.87</td>\n",
       "    </tr>\n",
       "  </tbody>\n",
       "</table>\n",
       "</div>"
      ],
      "text/plain": [
       "            USD AM  EUR AM  GBP AM  USD PM  EUR PM  GBP PM\n",
       "Date                                                      \n",
       "2018-01-02   937.0  776.63  690.75   936.0  776.44  690.52\n",
       "2018-01-03   944.0  784.05  694.88   951.0  790.85  701.59\n",
       "2018-01-04   953.0  791.86  703.84   959.0  794.53  708.53\n",
       "2018-01-05   963.0  799.50  711.75   966.0  801.33  712.13\n",
       "2018-01-08   967.0  806.51  714.97   971.0  811.19  716.87"
      ]
     },
     "execution_count": 7,
     "metadata": {},
     "output_type": "execute_result"
    }
   ],
   "source": [
    "platinum_prices = quandl.get(\"LPPM/PLAT\", start_date = \"2018-01-01\", end_date = \"2018-12-31\")\n",
    "platinum_prices.head()"
   ]
  },
  {
   "cell_type": "code",
   "execution_count": 8,
   "metadata": {
    "colab": {
     "base_uri": "https://localhost:8080/",
     "height": 34
    },
    "colab_type": "code",
    "executionInfo": {
     "elapsed": 325,
     "status": "ok",
     "timestamp": 1576133643270,
     "user": {
      "displayName": "Hyunsoo Kim",
      "photoUrl": "",
      "userId": "13555375600564903636"
     },
     "user_tz": 300
    },
    "id": "BJom_XpnHk9N",
    "outputId": "3bfa5bb7-e428-43ff-920e-0e851437af96"
   },
   "outputs": [
    {
     "data": {
      "text/plain": [
       "250"
      ]
     },
     "execution_count": 8,
     "metadata": {},
     "output_type": "execute_result"
    }
   ],
   "source": [
    "platinum_prices['USD PM'].count()"
   ]
  },
  {
   "cell_type": "code",
   "execution_count": 9,
   "metadata": {
    "colab": {
     "base_uri": "https://localhost:8080/",
     "height": 235
    },
    "colab_type": "code",
    "executionInfo": {
     "elapsed": 982,
     "status": "ok",
     "timestamp": 1576133644856,
     "user": {
      "displayName": "Hyunsoo Kim",
      "photoUrl": "",
      "userId": "13555375600564903636"
     },
     "user_tz": 300
    },
    "id": "5FbkZ1R3HNbr",
    "outputId": "a0d2491f-bb8e-40ad-c493-c364e6b087fd"
   },
   "outputs": [
    {
     "data": {
      "text/html": [
       "<div>\n",
       "<style scoped>\n",
       "    .dataframe tbody tr th:only-of-type {\n",
       "        vertical-align: middle;\n",
       "    }\n",
       "\n",
       "    .dataframe tbody tr th {\n",
       "        vertical-align: top;\n",
       "    }\n",
       "\n",
       "    .dataframe thead th {\n",
       "        text-align: right;\n",
       "    }\n",
       "</style>\n",
       "<table border=\"1\" class=\"dataframe\">\n",
       "  <thead>\n",
       "    <tr style=\"text-align: right;\">\n",
       "      <th></th>\n",
       "      <th>Value</th>\n",
       "    </tr>\n",
       "    <tr>\n",
       "      <th>Date</th>\n",
       "      <th></th>\n",
       "    </tr>\n",
       "  </thead>\n",
       "  <tbody>\n",
       "    <tr>\n",
       "      <th>2018-01-01</th>\n",
       "      <td>14165.575000</td>\n",
       "    </tr>\n",
       "    <tr>\n",
       "      <th>2018-01-02</th>\n",
       "      <td>13812.186667</td>\n",
       "    </tr>\n",
       "    <tr>\n",
       "      <th>2018-01-03</th>\n",
       "      <td>15005.856667</td>\n",
       "    </tr>\n",
       "    <tr>\n",
       "      <th>2018-01-04</th>\n",
       "      <td>15053.261667</td>\n",
       "    </tr>\n",
       "    <tr>\n",
       "      <th>2018-01-05</th>\n",
       "      <td>15199.355000</td>\n",
       "    </tr>\n",
       "  </tbody>\n",
       "</table>\n",
       "</div>"
      ],
      "text/plain": [
       "                   Value\n",
       "Date                    \n",
       "2018-01-01  14165.575000\n",
       "2018-01-02  13812.186667\n",
       "2018-01-03  15005.856667\n",
       "2018-01-04  15053.261667\n",
       "2018-01-05  15199.355000"
      ]
     },
     "execution_count": 9,
     "metadata": {},
     "output_type": "execute_result"
    }
   ],
   "source": [
    "bitcoin_data = quandl.get(\"BCHAIN/MKPRU\", start_date = \"2018-01-01\", end_date = \"2018-12-31\")\n",
    "bitcoin_data.head()"
   ]
  },
  {
   "cell_type": "code",
   "execution_count": 10,
   "metadata": {
    "colab": {
     "base_uri": "https://localhost:8080/",
     "height": 51
    },
    "colab_type": "code",
    "executionInfo": {
     "elapsed": 288,
     "status": "ok",
     "timestamp": 1576133645056,
     "user": {
      "displayName": "Hyunsoo Kim",
      "photoUrl": "",
      "userId": "13555375600564903636"
     },
     "user_tz": 300
    },
    "id": "065QQmQdH3yd",
    "outputId": "0399c0e6-0db1-4331-b51d-bd6e3c72fec3"
   },
   "outputs": [
    {
     "data": {
      "text/plain": [
       "Value    365\n",
       "dtype: int64"
      ]
     },
     "execution_count": 10,
     "metadata": {},
     "output_type": "execute_result"
    }
   ],
   "source": [
    "bitcoin_data.count()"
   ]
  },
  {
   "cell_type": "code",
   "execution_count": 11,
   "metadata": {
    "colab": {
     "base_uri": "https://localhost:8080/",
     "height": 235
    },
    "colab_type": "code",
    "executionInfo": {
     "elapsed": 895,
     "status": "ok",
     "timestamp": 1576133646432,
     "user": {
      "displayName": "Hyunsoo Kim",
      "photoUrl": "",
      "userId": "13555375600564903636"
     },
     "user_tz": 300
    },
    "id": "TT-DHP9UINvV",
    "outputId": "5aaf6c8a-1e37-4943-ae98-31231e0614c9"
   },
   "outputs": [
    {
     "data": {
      "text/html": [
       "<div>\n",
       "<style scoped>\n",
       "    .dataframe tbody tr th:only-of-type {\n",
       "        vertical-align: middle;\n",
       "    }\n",
       "\n",
       "    .dataframe tbody tr th {\n",
       "        vertical-align: top;\n",
       "    }\n",
       "\n",
       "    .dataframe thead th {\n",
       "        text-align: right;\n",
       "    }\n",
       "</style>\n",
       "<table border=\"1\" class=\"dataframe\">\n",
       "  <thead>\n",
       "    <tr style=\"text-align: right;\">\n",
       "      <th></th>\n",
       "      <th>Cash Price</th>\n",
       "      <th>Basis</th>\n",
       "      <th>Fall Price</th>\n",
       "      <th>Fall Basis</th>\n",
       "    </tr>\n",
       "    <tr>\n",
       "      <th>Date</th>\n",
       "      <th></th>\n",
       "      <th></th>\n",
       "      <th></th>\n",
       "      <th></th>\n",
       "    </tr>\n",
       "  </thead>\n",
       "  <tbody>\n",
       "    <tr>\n",
       "      <th>2018-01-02</th>\n",
       "      <td>3.32</td>\n",
       "      <td>-0.21</td>\n",
       "      <td>3.60</td>\n",
       "      <td>-0.27</td>\n",
       "    </tr>\n",
       "    <tr>\n",
       "      <th>2018-01-03</th>\n",
       "      <td>3.32</td>\n",
       "      <td>-0.21</td>\n",
       "      <td>3.59</td>\n",
       "      <td>-0.27</td>\n",
       "    </tr>\n",
       "    <tr>\n",
       "      <th>2018-01-04</th>\n",
       "      <td>3.30</td>\n",
       "      <td>-0.21</td>\n",
       "      <td>3.58</td>\n",
       "      <td>-0.27</td>\n",
       "    </tr>\n",
       "    <tr>\n",
       "      <th>2018-01-05</th>\n",
       "      <td>3.30</td>\n",
       "      <td>-0.21</td>\n",
       "      <td>3.58</td>\n",
       "      <td>-0.27</td>\n",
       "    </tr>\n",
       "    <tr>\n",
       "      <th>2018-01-08</th>\n",
       "      <td>3.27</td>\n",
       "      <td>-0.20</td>\n",
       "      <td>3.54</td>\n",
       "      <td>-0.27</td>\n",
       "    </tr>\n",
       "  </tbody>\n",
       "</table>\n",
       "</div>"
      ],
      "text/plain": [
       "            Cash Price  Basis  Fall Price  Fall Basis\n",
       "Date                                                 \n",
       "2018-01-02        3.32  -0.21        3.60       -0.27\n",
       "2018-01-03        3.32  -0.21        3.59       -0.27\n",
       "2018-01-04        3.30  -0.21        3.58       -0.27\n",
       "2018-01-05        3.30  -0.21        3.58       -0.27\n",
       "2018-01-08        3.27  -0.20        3.54       -0.27"
      ]
     },
     "execution_count": 11,
     "metadata": {},
     "output_type": "execute_result"
    }
   ],
   "source": [
    "cornprices = quandl.get(\"TFGRAIN/CORN\", start_date = \"2018-01-01\", end_date = \"2018-12-31\")\n",
    "cornprices.head()"
   ]
  },
  {
   "cell_type": "code",
   "execution_count": 12,
   "metadata": {
    "colab": {
     "base_uri": "https://localhost:8080/",
     "height": 34
    },
    "colab_type": "code",
    "executionInfo": {
     "elapsed": 309,
     "status": "ok",
     "timestamp": 1576133646664,
     "user": {
      "displayName": "Hyunsoo Kim",
      "photoUrl": "",
      "userId": "13555375600564903636"
     },
     "user_tz": 300
    },
    "id": "bkhKkaoRIVEX",
    "outputId": "c2fb9826-5c1a-4c0c-efd9-2d50452559ca"
   },
   "outputs": [
    {
     "data": {
      "text/plain": [
       "251"
      ]
     },
     "execution_count": 12,
     "metadata": {},
     "output_type": "execute_result"
    }
   ],
   "source": [
    "cornprices['Cash Price'].count()"
   ]
  },
  {
   "cell_type": "code",
   "execution_count": 13,
   "metadata": {
    "colab": {},
    "colab_type": "code",
    "id": "XvNEvvr_2_Qs"
   },
   "outputs": [],
   "source": [
    "import requests\n",
    "import json"
   ]
  },
  {
   "cell_type": "code",
   "execution_count": 14,
   "metadata": {
    "colab": {
     "base_uri": "https://localhost:8080/",
     "height": 204
    },
    "colab_type": "code",
    "executionInfo": {
     "elapsed": 10030,
     "status": "ok",
     "timestamp": 1576133657753,
     "user": {
      "displayName": "Hyunsoo Kim",
      "photoUrl": "",
      "userId": "13555375600564903636"
     },
     "user_tz": 300
    },
    "id": "RtTWx4Ts6jxY",
    "outputId": "3ac38559-870a-44ea-87ec-9300d2a6e3c4"
   },
   "outputs": [
    {
     "data": {
      "text/html": [
       "<div>\n",
       "<style scoped>\n",
       "    .dataframe tbody tr th:only-of-type {\n",
       "        vertical-align: middle;\n",
       "    }\n",
       "\n",
       "    .dataframe tbody tr th {\n",
       "        vertical-align: top;\n",
       "    }\n",
       "\n",
       "    .dataframe thead th {\n",
       "        text-align: right;\n",
       "    }\n",
       "</style>\n",
       "<table border=\"1\" class=\"dataframe\">\n",
       "  <thead>\n",
       "    <tr style=\"text-align: right;\">\n",
       "      <th></th>\n",
       "      <th>1. open</th>\n",
       "      <th>2. high</th>\n",
       "      <th>3. low</th>\n",
       "      <th>4. close</th>\n",
       "      <th>5. adjusted close</th>\n",
       "      <th>6. volume</th>\n",
       "      <th>7. dividend amount</th>\n",
       "      <th>8. split coefficient</th>\n",
       "    </tr>\n",
       "  </thead>\n",
       "  <tbody>\n",
       "    <tr>\n",
       "      <th>2018-01-02</th>\n",
       "      <td>2683.7300</td>\n",
       "      <td>2695.8899</td>\n",
       "      <td>2682.3601</td>\n",
       "      <td>2695.8101</td>\n",
       "      <td>2695.8101</td>\n",
       "      <td>3367250000</td>\n",
       "      <td>0.0000</td>\n",
       "      <td>1.0000</td>\n",
       "    </tr>\n",
       "    <tr>\n",
       "      <th>2018-01-03</th>\n",
       "      <td>2697.8501</td>\n",
       "      <td>2714.3701</td>\n",
       "      <td>2697.7700</td>\n",
       "      <td>2713.0601</td>\n",
       "      <td>2713.0601</td>\n",
       "      <td>3538660000</td>\n",
       "      <td>0.0000</td>\n",
       "      <td>1.0000</td>\n",
       "    </tr>\n",
       "    <tr>\n",
       "      <th>2018-01-04</th>\n",
       "      <td>2719.3101</td>\n",
       "      <td>2729.2900</td>\n",
       "      <td>2719.0701</td>\n",
       "      <td>2723.9900</td>\n",
       "      <td>2723.9900</td>\n",
       "      <td>3695260000</td>\n",
       "      <td>0.0000</td>\n",
       "      <td>1.0000</td>\n",
       "    </tr>\n",
       "    <tr>\n",
       "      <th>2018-01-05</th>\n",
       "      <td>2731.3301</td>\n",
       "      <td>2743.4500</td>\n",
       "      <td>2727.9199</td>\n",
       "      <td>2743.1499</td>\n",
       "      <td>2743.1499</td>\n",
       "      <td>3236620000</td>\n",
       "      <td>0.0000</td>\n",
       "      <td>1.0000</td>\n",
       "    </tr>\n",
       "    <tr>\n",
       "      <th>2018-01-08</th>\n",
       "      <td>2742.6699</td>\n",
       "      <td>2748.5100</td>\n",
       "      <td>2737.6001</td>\n",
       "      <td>2747.7100</td>\n",
       "      <td>2747.7100</td>\n",
       "      <td>3242650000</td>\n",
       "      <td>0.0000</td>\n",
       "      <td>1.0000</td>\n",
       "    </tr>\n",
       "  </tbody>\n",
       "</table>\n",
       "</div>"
      ],
      "text/plain": [
       "              1. open    2. high     3. low   4. close 5. adjusted close  \\\n",
       "2018-01-02  2683.7300  2695.8899  2682.3601  2695.8101         2695.8101   \n",
       "2018-01-03  2697.8501  2714.3701  2697.7700  2713.0601         2713.0601   \n",
       "2018-01-04  2719.3101  2729.2900  2719.0701  2723.9900         2723.9900   \n",
       "2018-01-05  2731.3301  2743.4500  2727.9199  2743.1499         2743.1499   \n",
       "2018-01-08  2742.6699  2748.5100  2737.6001  2747.7100         2747.7100   \n",
       "\n",
       "             6. volume 7. dividend amount 8. split coefficient  \n",
       "2018-01-02  3367250000             0.0000               1.0000  \n",
       "2018-01-03  3538660000             0.0000               1.0000  \n",
       "2018-01-04  3695260000             0.0000               1.0000  \n",
       "2018-01-05  3236620000             0.0000               1.0000  \n",
       "2018-01-08  3242650000             0.0000               1.0000  "
      ]
     },
     "execution_count": 14,
     "metadata": {},
     "output_type": "execute_result"
    }
   ],
   "source": [
    "#S&P 500 INDEX\n",
    "url1 = 'https://www.alphavantage.co/query?function=TIME_SERIES_DAILY_ADJUSTED&symbol=.INX&outputsize=full&apikey=TH8ZR2EQ6CE0D84Y'\n",
    "sp = requests.get(url1)\n",
    "data = sp.json()\n",
    "sp500 = pd.DataFrame(data[\"Time Series (Daily)\"]) #constructing a DataFrame using the JSON\n",
    "sp500 = sp500.T\n",
    "dateRange = pd.DataFrame(sp500.loc['2018-12-31':'2018-01-01']) #constructing a new DataFrame with a specific date range \n",
    "dateRange.iloc[::-1].head()"
   ]
  },
  {
   "cell_type": "code",
   "execution_count": 15,
   "metadata": {
    "colab": {
     "base_uri": "https://localhost:8080/",
     "height": 34
    },
    "colab_type": "code",
    "executionInfo": {
     "elapsed": 9305,
     "status": "ok",
     "timestamp": 1576133657755,
     "user": {
      "displayName": "Hyunsoo Kim",
      "photoUrl": "",
      "userId": "13555375600564903636"
     },
     "user_tz": 300
    },
    "id": "_kMxCOgF6rHd",
    "outputId": "04e459b5-a6ed-41ba-8046-34ef83ee86fc"
   },
   "outputs": [
    {
     "data": {
      "text/plain": [
       "251"
      ]
     },
     "execution_count": 15,
     "metadata": {},
     "output_type": "execute_result"
    }
   ],
   "source": [
    "len(dateRange)"
   ]
  },
  {
   "cell_type": "markdown",
   "metadata": {
    "colab_type": "text",
    "id": "9pIANmisI6KX"
   },
   "source": [
    "Part 2.\n"
   ]
  },
  {
   "cell_type": "markdown",
   "metadata": {
    "colab_type": "text",
    "id": "QuCb3ZBkJDbH"
   },
   "source": [
    "Section A. \n",
    "Calculate daily % change for each of the asset and the S&P. Display the first 5 rows and the total count for each data set."
   ]
  },
  {
   "cell_type": "code",
   "execution_count": 16,
   "metadata": {
    "colab": {
     "base_uri": "https://localhost:8080/",
     "height": 136
    },
    "colab_type": "code",
    "executionInfo": {
     "elapsed": 7082,
     "status": "ok",
     "timestamp": 1576133657759,
     "user": {
      "displayName": "Hyunsoo Kim",
      "photoUrl": "",
      "userId": "13555375600564903636"
     },
     "user_tz": 300
    },
    "id": "0-ijaeDJJHNr",
    "outputId": "d51767bc-7b24-45d4-a792-421a601e31b4"
   },
   "outputs": [
    {
     "data": {
      "text/plain": [
       "Date\n",
       "2018-01-02         NaN\n",
       "2018-01-03    0.001837\n",
       "2018-01-04    0.011916\n",
       "2018-01-05   -0.007246\n",
       "2018-01-08    0.000912\n",
       "Name: New York 9:30, dtype: float64"
      ]
     },
     "execution_count": 16,
     "metadata": {},
     "output_type": "execute_result"
    }
   ],
   "source": [
    "palladium = palladium_data['New York 9:30'].pct_change() # palladium\n",
    "palladium.head()"
   ]
  },
  {
   "cell_type": "code",
   "execution_count": 17,
   "metadata": {
    "colab": {
     "base_uri": "https://localhost:8080/",
     "height": 235
    },
    "colab_type": "code",
    "executionInfo": {
     "elapsed": 4412,
     "status": "ok",
     "timestamp": 1576133657761,
     "user": {
      "displayName": "Hyunsoo Kim",
      "photoUrl": "",
      "userId": "13555375600564903636"
     },
     "user_tz": 300
    },
    "id": "OnLvZOfKJkjl",
    "outputId": "fae89af3-7950-4665-dedd-07449efdd814"
   },
   "outputs": [
    {
     "data": {
      "text/html": [
       "<div>\n",
       "<style scoped>\n",
       "    .dataframe tbody tr th:only-of-type {\n",
       "        vertical-align: middle;\n",
       "    }\n",
       "\n",
       "    .dataframe tbody tr th {\n",
       "        vertical-align: top;\n",
       "    }\n",
       "\n",
       "    .dataframe thead th {\n",
       "        text-align: right;\n",
       "    }\n",
       "</style>\n",
       "<table border=\"1\" class=\"dataframe\">\n",
       "  <thead>\n",
       "    <tr style=\"text-align: right;\">\n",
       "      <th></th>\n",
       "      <th>Value</th>\n",
       "    </tr>\n",
       "    <tr>\n",
       "      <th>Date</th>\n",
       "      <th></th>\n",
       "    </tr>\n",
       "  </thead>\n",
       "  <tbody>\n",
       "    <tr>\n",
       "      <th>2018-01-01</th>\n",
       "      <td>NaN</td>\n",
       "    </tr>\n",
       "    <tr>\n",
       "      <th>2018-01-02</th>\n",
       "      <td>0.016305</td>\n",
       "    </tr>\n",
       "    <tr>\n",
       "      <th>2018-01-03</th>\n",
       "      <td>0.002172</td>\n",
       "    </tr>\n",
       "    <tr>\n",
       "      <th>2018-01-04</th>\n",
       "      <td>-0.000304</td>\n",
       "    </tr>\n",
       "    <tr>\n",
       "      <th>2018-01-05</th>\n",
       "      <td>0.002016</td>\n",
       "    </tr>\n",
       "  </tbody>\n",
       "</table>\n",
       "</div>"
      ],
      "text/plain": [
       "               Value\n",
       "Date                \n",
       "2018-01-01       NaN\n",
       "2018-01-02  0.016305\n",
       "2018-01-03  0.002172\n",
       "2018-01-04 -0.000304\n",
       "2018-01-05  0.002016"
      ]
     },
     "execution_count": 17,
     "metadata": {},
     "output_type": "execute_result"
    }
   ],
   "source": [
    "gold = gold_data.pct_change() # gold\n",
    "gold.head()"
   ]
  },
  {
   "cell_type": "code",
   "execution_count": 18,
   "metadata": {
    "colab": {
     "base_uri": "https://localhost:8080/",
     "height": 235
    },
    "colab_type": "code",
    "executionInfo": {
     "elapsed": 3489,
     "status": "ok",
     "timestamp": 1576133657763,
     "user": {
      "displayName": "Hyunsoo Kim",
      "photoUrl": "",
      "userId": "13555375600564903636"
     },
     "user_tz": 300
    },
    "id": "wSw5g4UsJk5v",
    "outputId": "0c22779b-b90b-4c25-bb31-fde9177ec23d"
   },
   "outputs": [
    {
     "data": {
      "text/html": [
       "<div>\n",
       "<style scoped>\n",
       "    .dataframe tbody tr th:only-of-type {\n",
       "        vertical-align: middle;\n",
       "    }\n",
       "\n",
       "    .dataframe tbody tr th {\n",
       "        vertical-align: top;\n",
       "    }\n",
       "\n",
       "    .dataframe thead th {\n",
       "        text-align: right;\n",
       "    }\n",
       "</style>\n",
       "<table border=\"1\" class=\"dataframe\">\n",
       "  <thead>\n",
       "    <tr style=\"text-align: right;\">\n",
       "      <th></th>\n",
       "      <th>Value</th>\n",
       "    </tr>\n",
       "    <tr>\n",
       "      <th>Date</th>\n",
       "      <th></th>\n",
       "    </tr>\n",
       "  </thead>\n",
       "  <tbody>\n",
       "    <tr>\n",
       "      <th>2018-01-01</th>\n",
       "      <td>NaN</td>\n",
       "    </tr>\n",
       "    <tr>\n",
       "      <th>2018-01-02</th>\n",
       "      <td>-0.024947</td>\n",
       "    </tr>\n",
       "    <tr>\n",
       "      <th>2018-01-03</th>\n",
       "      <td>0.086422</td>\n",
       "    </tr>\n",
       "    <tr>\n",
       "      <th>2018-01-04</th>\n",
       "      <td>0.003159</td>\n",
       "    </tr>\n",
       "    <tr>\n",
       "      <th>2018-01-05</th>\n",
       "      <td>0.009705</td>\n",
       "    </tr>\n",
       "  </tbody>\n",
       "</table>\n",
       "</div>"
      ],
      "text/plain": [
       "               Value\n",
       "Date                \n",
       "2018-01-01       NaN\n",
       "2018-01-02 -0.024947\n",
       "2018-01-03  0.086422\n",
       "2018-01-04  0.003159\n",
       "2018-01-05  0.009705"
      ]
     },
     "execution_count": 18,
     "metadata": {},
     "output_type": "execute_result"
    }
   ],
   "source": [
    "bitcoin = bitcoin_data.pct_change() # bitcoin\n",
    "bitcoin.head()"
   ]
  },
  {
   "cell_type": "code",
   "execution_count": 19,
   "metadata": {
    "colab": {
     "base_uri": "https://localhost:8080/",
     "height": 136
    },
    "colab_type": "code",
    "executionInfo": {
     "elapsed": 2833,
     "status": "ok",
     "timestamp": 1576133657767,
     "user": {
      "displayName": "Hyunsoo Kim",
      "photoUrl": "",
      "userId": "13555375600564903636"
     },
     "user_tz": 300
    },
    "id": "AGZdHjsOJlOb",
    "outputId": "0cf3f332-95ef-407e-e587-1b3c97a87045"
   },
   "outputs": [
    {
     "data": {
      "text/plain": [
       "Date\n",
       "2018-01-02         NaN\n",
       "2018-01-03    0.016026\n",
       "2018-01-04    0.008412\n",
       "2018-01-05    0.007299\n",
       "2018-01-08    0.005176\n",
       "Name: USD PM, dtype: float64"
      ]
     },
     "execution_count": 19,
     "metadata": {},
     "output_type": "execute_result"
    }
   ],
   "source": [
    "platinum = platinum_prices['USD PM'].pct_change() # platinum\n",
    "platinum.head()"
   ]
  },
  {
   "cell_type": "code",
   "execution_count": 20,
   "metadata": {
    "colab": {
     "base_uri": "https://localhost:8080/",
     "height": 136
    },
    "colab_type": "code",
    "executionInfo": {
     "elapsed": 2238,
     "status": "ok",
     "timestamp": 1576133657769,
     "user": {
      "displayName": "Hyunsoo Kim",
      "photoUrl": "",
      "userId": "13555375600564903636"
     },
     "user_tz": 300
    },
    "id": "t8_O-AFPJlg5",
    "outputId": "56a3bc8a-bb78-4ad0-dca5-2b142eb59841"
   },
   "outputs": [
    {
     "data": {
      "text/plain": [
       "Date\n",
       "2018-01-02         NaN\n",
       "2018-01-03    0.000000\n",
       "2018-01-04   -0.006024\n",
       "2018-01-05    0.000000\n",
       "2018-01-08   -0.009091\n",
       "Name: Cash Price, dtype: float64"
      ]
     },
     "execution_count": 20,
     "metadata": {},
     "output_type": "execute_result"
    }
   ],
   "source": [
    "corn = cornprices['Cash Price'].pct_change() # corn\n",
    "corn.head()"
   ]
  },
  {
   "cell_type": "code",
   "execution_count": 21,
   "metadata": {
    "colab": {
     "base_uri": "https://localhost:8080/",
     "height": 119
    },
    "colab_type": "code",
    "executionInfo": {
     "elapsed": 1668,
     "status": "ok",
     "timestamp": 1576133657771,
     "user": {
      "displayName": "Hyunsoo Kim",
      "photoUrl": "",
      "userId": "13555375600564903636"
     },
     "user_tz": 300
    },
    "id": "RZKSpJpXJl19",
    "outputId": "95feb8a1-dfd4-408a-8fb8-2e57f097c2bd"
   },
   "outputs": [
    {
     "data": {
      "text/plain": [
       "2018-01-02         NaN\n",
       "2018-01-03    0.006399\n",
       "2018-01-04    0.004029\n",
       "2018-01-05    0.007034\n",
       "2018-01-08    0.001662\n",
       "Name: 4. close, dtype: float64"
      ]
     },
     "execution_count": 21,
     "metadata": {},
     "output_type": "execute_result"
    }
   ],
   "source": [
    "sp500_close = dateRange.iloc[::-1]['4. close'].astype(np.float64).pct_change() # sp500\n",
    "sp500_close.head()"
   ]
  },
  {
   "cell_type": "markdown",
   "metadata": {
    "colab_type": "text",
    "id": "pxaw0V11KGwr"
   },
   "source": [
    "Section B. Plot the daily % change data using a bar graph for each asset. "
   ]
  },
  {
   "cell_type": "code",
   "execution_count": 22,
   "metadata": {
    "colab": {},
    "colab_type": "code",
    "id": "v7BClHY_KQSp"
   },
   "outputs": [],
   "source": [
    "import matplotlib.pyplot as plt\n",
    "%matplotlib notebook\n",
    "import matplotlib.ticker as ticker"
   ]
  },
  {
   "cell_type": "code",
   "execution_count": 69,
   "metadata": {
    "colab": {},
    "colab_type": "code",
    "id": "HrvOAhVTKW0C"
   },
   "outputs": [
    {
     "data": {
      "image/png": "[encoded data removed]",
      "text/plain": [
       "<Figure size 1152x720 with 1 Axes>"
      ]
     },
     "metadata": {
      "needs_background": "light"
     },
     "output_type": "display_data"
    }
   ],
   "source": [
    "month =[\" \",\"Jan\", \"Feb\",\"Mar\", \"Apr\", \"May\", \"June\", \"July\", \"Aug\", \"Sep\", \"Oct\", \"Nov\", \"Dec\",\" \"]\n",
    "graph_1=palladium.plot.bar()\n",
    "plt.ylabel('Daily Percentage Change')\n",
    "plt.xlabel('Month')\n",
    "plt.title('Palladium')\n",
    "graph_1.xaxis.set_major_locator(ticker.MultipleLocator(22.00))\n",
    "graph_1.xaxis.set_minor_locator(ticker.MultipleLocator(0.5))\n",
    "graph_1.xaxis.set_major_formatter(ticker.FixedFormatter(month))\n",
    "minors = [\"\"] + [\"%.2f\" % (x-int(x)) \n",
    "                 if (x-int(x))\n",
    "                 else \"\" \n",
    "                 for x in np.arange(0, 13, 1.0)]\n",
    "graph_1.xaxis.set_minor_formatter(ticker.FixedFormatter(minors))\n",
    "plt.rcParams['figure.figsize'] = (16,10)"
   ]
  },
  {
   "cell_type": "code",
   "execution_count": 68,
   "metadata": {
    "colab": {
     "base_uri": "https://localhost:8080/",
     "height": 17
    },
    "colab_type": "code",
    "executionInfo": {
     "elapsed": 809,
     "status": "ok",
     "timestamp": 1576133726156,
     "user": {
      "displayName": "Hyunsoo Kim",
      "photoUrl": "",
      "userId": "13555375600564903636"
     },
     "user_tz": 300
    },
    "id": "DKxvFricKjcD",
    "outputId": "54b59753-026d-4135-f3a4-10bda824a434"
   },
   "outputs": [
    {
     "data": {
      "image/png": "[encoded data removed]",
      "text/plain": [
       "<Figure size 1152x720 with 1 Axes>"
      ]
     },
     "metadata": {
      "needs_background": "light"
     },
     "output_type": "display_data"
    }
   ],
   "source": [
    "graph_2=gold.plot.bar()\n",
    "plt.ylabel('Daily Percentage Change')\n",
    "plt.xlabel('Month')\n",
    "plt.title('Gold')\n",
    "graph_2.xaxis.set_major_locator(ticker.MultipleLocator(22.00))\n",
    "graph_2.xaxis.set_minor_locator(ticker.MultipleLocator(0.5))\n",
    "graph_2.xaxis.set_major_formatter(ticker.FixedFormatter(month))\n",
    "graph_2.xaxis.set_minor_formatter(ticker.FixedFormatter(minors))\n"
   ]
  },
  {
   "cell_type": "code",
   "execution_count": 70,
   "metadata": {
    "colab": {
     "base_uri": "https://localhost:8080/",
     "height": 17
    },
    "colab_type": "code",
    "executionInfo": {
     "elapsed": 931,
     "status": "ok",
     "timestamp": 1576133729355,
     "user": {
      "displayName": "Hyunsoo Kim",
      "photoUrl": "",
      "userId": "13555375600564903636"
     },
     "user_tz": 300
    },
    "id": "TWECZnqOLEaI",
    "outputId": "6ed86aee-5574-4d96-cb3b-604a0dc50400"
   },
   "outputs": [
    {
     "data": {
      "image/png": "[encoded data removed]",
      "text/plain": [
       "<Figure size 1152x720 with 1 Axes>"
      ]
     },
     "metadata": {
      "needs_background": "light"
     },
     "output_type": "display_data"
    }
   ],
   "source": [
    "graph_3=bitcoin.plot.bar()\n",
    "plt.ylabel('Daily Percentage Change')\n",
    "plt.xlabel('Month')\n",
    "plt.title('Bitcoin')\n",
    "graph_3.xaxis.set_major_locator(ticker.MultipleLocator(32.00))\n",
    "graph_3.xaxis.set_minor_locator(ticker.MultipleLocator(0.5))\n",
    "graph_3.xaxis.set_major_formatter(ticker.FixedFormatter(month))\n",
    "graph_3.xaxis.set_minor_formatter(ticker.FixedFormatter(minors))\n"
   ]
  },
  {
   "cell_type": "code",
   "execution_count": 72,
   "metadata": {
    "colab": {},
    "colab_type": "code",
    "id": "eYBAvwgKLPIO"
   },
   "outputs": [
    {
     "data": {
      "image/png": "[encoded data removed]",
      "text/plain": [
       "<Figure size 1152x720 with 1 Axes>"
      ]
     },
     "metadata": {
      "needs_background": "light"
     },
     "output_type": "display_data"
    }
   ],
   "source": [
    "graph_4=platinum.plot.bar()\n",
    "plt.ylabel('Daily Percentage Change')\n",
    "plt.xlabel('Month')\n",
    "plt.title('Platinum')\n",
    "graph_4.xaxis.set_major_locator(ticker.MultipleLocator(22.00))\n",
    "graph_4.xaxis.set_minor_locator(ticker.MultipleLocator(0.5))\n",
    "graph_4.xaxis.set_major_formatter(ticker.FixedFormatter(month))\n",
    "graph_4.xaxis.set_minor_formatter(ticker.FixedFormatter(minors))\n"
   ]
  },
  {
   "cell_type": "code",
   "execution_count": 73,
   "metadata": {
    "colab": {},
    "colab_type": "code",
    "id": "CSNgt2dsLTnb"
   },
   "outputs": [
    {
     "data": {
      "image/png": "[encoded data removed]",
      "text/plain": [
       "<Figure size 1152x720 with 1 Axes>"
      ]
     },
     "metadata": {
      "needs_background": "light"
     },
     "output_type": "display_data"
    }
   ],
   "source": [
    "graph_5=corn.plot.bar()\n",
    "plt.ylabel('Daily Percentage Change')\n",
    "plt.xlabel('Month')\n",
    "plt.title('Corn')\n",
    "graph_5.xaxis.set_major_locator(ticker.MultipleLocator(22.00))\n",
    "graph_5.xaxis.set_minor_locator(ticker.MultipleLocator(0.5))\n",
    "graph_5.xaxis.set_major_formatter(ticker.FixedFormatter(month))\n",
    "graph_5.xaxis.set_minor_formatter(ticker.FixedFormatter(minors))"
   ]
  },
  {
   "cell_type": "markdown",
   "metadata": {
    "colab_type": "text",
    "id": "z7PoHfmDLu8i"
   },
   "source": [
    "Section C. Calculate and display the mean, standard deviation, variance, min, and max for each set of data. "
   ]
  },
  {
   "cell_type": "code",
   "execution_count": 29,
   "metadata": {
    "colab": {
     "base_uri": "https://localhost:8080/",
     "height": 170
    },
    "colab_type": "code",
    "executionInfo": {
     "elapsed": 275,
     "status": "ok",
     "timestamp": 1576133738271,
     "user": {
      "displayName": "Hyunsoo Kim",
      "photoUrl": "",
      "userId": "13555375600564903636"
     },
     "user_tz": 300
    },
    "id": "kesO36EdL2jR",
    "outputId": "9030b469-fdf3-444c-e48d-6adc939a3069"
   },
   "outputs": [
    {
     "data": {
      "text/plain": [
       "count    257.000000\n",
       "mean       0.000710\n",
       "std        0.014767\n",
       "min       -0.049859\n",
       "25%       -0.007612\n",
       "50%        0.000000\n",
       "75%        0.009193\n",
       "max        0.045093\n",
       "Name: New York 9:30, dtype: float64"
      ]
     },
     "execution_count": 29,
     "metadata": {},
     "output_type": "execute_result"
    }
   ],
   "source": [
    "palladium.describe()"
   ]
  },
  {
   "cell_type": "code",
   "execution_count": 30,
   "metadata": {
    "colab": {
     "base_uri": "https://localhost:8080/",
     "height": 34
    },
    "colab_type": "code",
    "executionInfo": {
     "elapsed": 395,
     "status": "ok",
     "timestamp": 1576133739270,
     "user": {
      "displayName": "Hyunsoo Kim",
      "photoUrl": "",
      "userId": "13555375600564903636"
     },
     "user_tz": 300
    },
    "id": "5_MPcYW0sUns",
    "outputId": "b61623ed-f952-4f50-fe8c-1ae8ec857094"
   },
   "outputs": [
    {
     "data": {
      "text/plain": [
       "0.00021806309723579944"
      ]
     },
     "execution_count": 30,
     "metadata": {},
     "output_type": "execute_result"
    }
   ],
   "source": [
    "palladium.var()"
   ]
  },
  {
   "cell_type": "code",
   "execution_count": 31,
   "metadata": {
    "colab": {
     "base_uri": "https://localhost:8080/",
     "height": 297
    },
    "colab_type": "code",
    "executionInfo": {
     "elapsed": 353,
     "status": "ok",
     "timestamp": 1576133739849,
     "user": {
      "displayName": "Hyunsoo Kim",
      "photoUrl": "",
      "userId": "13555375600564903636"
     },
     "user_tz": 300
    },
    "id": "FeSspVQQL9Xm",
    "outputId": "a8021c43-a39c-4c51-dd12-9a38486fbe6a"
   },
   "outputs": [
    {
     "data": {
      "text/html": [
       "<div>\n",
       "<style scoped>\n",
       "    .dataframe tbody tr th:only-of-type {\n",
       "        vertical-align: middle;\n",
       "    }\n",
       "\n",
       "    .dataframe tbody tr th {\n",
       "        vertical-align: top;\n",
       "    }\n",
       "\n",
       "    .dataframe thead th {\n",
       "        text-align: right;\n",
       "    }\n",
       "</style>\n",
       "<table border=\"1\" class=\"dataframe\">\n",
       "  <thead>\n",
       "    <tr style=\"text-align: right;\">\n",
       "      <th></th>\n",
       "      <th>Value</th>\n",
       "    </tr>\n",
       "  </thead>\n",
       "  <tbody>\n",
       "    <tr>\n",
       "      <th>count</th>\n",
       "      <td>260.000000</td>\n",
       "    </tr>\n",
       "    <tr>\n",
       "      <th>mean</th>\n",
       "      <td>-0.000020</td>\n",
       "    </tr>\n",
       "    <tr>\n",
       "      <th>std</th>\n",
       "      <td>0.005593</td>\n",
       "    </tr>\n",
       "    <tr>\n",
       "      <th>min</th>\n",
       "      <td>-0.018828</td>\n",
       "    </tr>\n",
       "    <tr>\n",
       "      <th>25%</th>\n",
       "      <td>-0.003559</td>\n",
       "    </tr>\n",
       "    <tr>\n",
       "      <th>50%</th>\n",
       "      <td>-0.000232</td>\n",
       "    </tr>\n",
       "    <tr>\n",
       "      <th>75%</th>\n",
       "      <td>0.003128</td>\n",
       "    </tr>\n",
       "    <tr>\n",
       "      <th>max</th>\n",
       "      <td>0.016305</td>\n",
       "    </tr>\n",
       "  </tbody>\n",
       "</table>\n",
       "</div>"
      ],
      "text/plain": [
       "            Value\n",
       "count  260.000000\n",
       "mean    -0.000020\n",
       "std      0.005593\n",
       "min     -0.018828\n",
       "25%     -0.003559\n",
       "50%     -0.000232\n",
       "75%      0.003128\n",
       "max      0.016305"
      ]
     },
     "execution_count": 31,
     "metadata": {},
     "output_type": "execute_result"
    }
   ],
   "source": [
    "gold.describe()"
   ]
  },
  {
   "cell_type": "code",
   "execution_count": 32,
   "metadata": {
    "colab": {
     "base_uri": "https://localhost:8080/",
     "height": 51
    },
    "colab_type": "code",
    "executionInfo": {
     "elapsed": 426,
     "status": "ok",
     "timestamp": 1576133740666,
     "user": {
      "displayName": "Hyunsoo Kim",
      "photoUrl": "",
      "userId": "13555375600564903636"
     },
     "user_tz": 300
    },
    "id": "gAx031GEsaf_",
    "outputId": "d2ada7bc-6b72-493d-ec3c-88c93a622f0d"
   },
   "outputs": [
    {
     "data": {
      "text/plain": [
       "Value    0.000031\n",
       "dtype: float64"
      ]
     },
     "execution_count": 32,
     "metadata": {},
     "output_type": "execute_result"
    }
   ],
   "source": [
    "gold.var()"
   ]
  },
  {
   "cell_type": "code",
   "execution_count": 33,
   "metadata": {
    "colab": {
     "base_uri": "https://localhost:8080/",
     "height": 297
    },
    "colab_type": "code",
    "executionInfo": {
     "elapsed": 293,
     "status": "ok",
     "timestamp": 1576133741307,
     "user": {
      "displayName": "Hyunsoo Kim",
      "photoUrl": "",
      "userId": "13555375600564903636"
     },
     "user_tz": 300
    },
    "id": "8ClzbSDhMFK8",
    "outputId": "16871fa1-b959-48c9-cad2-9dcac9aa8b0c"
   },
   "outputs": [
    {
     "data": {
      "text/html": [
       "<div>\n",
       "<style scoped>\n",
       "    .dataframe tbody tr th:only-of-type {\n",
       "        vertical-align: middle;\n",
       "    }\n",
       "\n",
       "    .dataframe tbody tr th {\n",
       "        vertical-align: top;\n",
       "    }\n",
       "\n",
       "    .dataframe thead th {\n",
       "        text-align: right;\n",
       "    }\n",
       "</style>\n",
       "<table border=\"1\" class=\"dataframe\">\n",
       "  <thead>\n",
       "    <tr style=\"text-align: right;\">\n",
       "      <th></th>\n",
       "      <th>Value</th>\n",
       "    </tr>\n",
       "  </thead>\n",
       "  <tbody>\n",
       "    <tr>\n",
       "      <th>count</th>\n",
       "      <td>364.000000</td>\n",
       "    </tr>\n",
       "    <tr>\n",
       "      <th>mean</th>\n",
       "      <td>-0.002716</td>\n",
       "    </tr>\n",
       "    <tr>\n",
       "      <th>std</th>\n",
       "      <td>0.041286</td>\n",
       "    </tr>\n",
       "    <tr>\n",
       "      <th>min</th>\n",
       "      <td>-0.202052</td>\n",
       "    </tr>\n",
       "    <tr>\n",
       "      <th>25%</th>\n",
       "      <td>-0.020114</td>\n",
       "    </tr>\n",
       "    <tr>\n",
       "      <th>50%</th>\n",
       "      <td>0.000150</td>\n",
       "    </tr>\n",
       "    <tr>\n",
       "      <th>75%</th>\n",
       "      <td>0.014583</td>\n",
       "    </tr>\n",
       "    <tr>\n",
       "      <th>max</th>\n",
       "      <td>0.133803</td>\n",
       "    </tr>\n",
       "  </tbody>\n",
       "</table>\n",
       "</div>"
      ],
      "text/plain": [
       "            Value\n",
       "count  364.000000\n",
       "mean    -0.002716\n",
       "std      0.041286\n",
       "min     -0.202052\n",
       "25%     -0.020114\n",
       "50%      0.000150\n",
       "75%      0.014583\n",
       "max      0.133803"
      ]
     },
     "execution_count": 33,
     "metadata": {},
     "output_type": "execute_result"
    }
   ],
   "source": [
    "bitcoin.describe()"
   ]
  },
  {
   "cell_type": "code",
   "execution_count": 34,
   "metadata": {
    "colab": {
     "base_uri": "https://localhost:8080/",
     "height": 51
    },
    "colab_type": "code",
    "executionInfo": {
     "elapsed": 445,
     "status": "ok",
     "timestamp": 1576133742270,
     "user": {
      "displayName": "Hyunsoo Kim",
      "photoUrl": "",
      "userId": "13555375600564903636"
     },
     "user_tz": 300
    },
    "id": "0pKXYLBwsgpL",
    "outputId": "9df78f98-f512-4b69-c228-3b52bf9bf74d"
   },
   "outputs": [
    {
     "data": {
      "text/plain": [
       "Value    0.001705\n",
       "dtype: float64"
      ]
     },
     "execution_count": 34,
     "metadata": {},
     "output_type": "execute_result"
    }
   ],
   "source": [
    "bitcoin.var()"
   ]
  },
  {
   "cell_type": "code",
   "execution_count": 35,
   "metadata": {
    "colab": {
     "base_uri": "https://localhost:8080/",
     "height": 170
    },
    "colab_type": "code",
    "executionInfo": {
     "elapsed": 302,
     "status": "ok",
     "timestamp": 1576133742897,
     "user": {
      "displayName": "Hyunsoo Kim",
      "photoUrl": "",
      "userId": "13555375600564903636"
     },
     "user_tz": 300
    },
    "id": "btyr-fopMIcl",
    "outputId": "6109f2e6-a4c0-4418-e4f6-3314a4cb0289"
   },
   "outputs": [
    {
     "data": {
      "text/plain": [
       "count    251.000000\n",
       "mean      -0.000639\n",
       "std        0.009715\n",
       "min       -0.038462\n",
       "25%       -0.006938\n",
       "50%       -0.001182\n",
       "75%        0.004460\n",
       "max        0.032581\n",
       "Name: USD PM, dtype: float64"
      ]
     },
     "execution_count": 35,
     "metadata": {},
     "output_type": "execute_result"
    }
   ],
   "source": [
    "platinum.describe()"
   ]
  },
  {
   "cell_type": "code",
   "execution_count": 36,
   "metadata": {
    "colab": {
     "base_uri": "https://localhost:8080/",
     "height": 34
    },
    "colab_type": "code",
    "executionInfo": {
     "elapsed": 363,
     "status": "ok",
     "timestamp": 1576133743717,
     "user": {
      "displayName": "Hyunsoo Kim",
      "photoUrl": "",
      "userId": "13555375600564903636"
     },
     "user_tz": 300
    },
    "id": "3CjnrGpwsjiq",
    "outputId": "f37d6cb5-8365-40d2-90bf-d2236fe39e0f"
   },
   "outputs": [
    {
     "data": {
      "text/plain": [
       "9.437298324976734e-05"
      ]
     },
     "execution_count": 36,
     "metadata": {},
     "output_type": "execute_result"
    }
   ],
   "source": [
    "platinum.var()"
   ]
  },
  {
   "cell_type": "code",
   "execution_count": 37,
   "metadata": {
    "colab": {
     "base_uri": "https://localhost:8080/",
     "height": 170
    },
    "colab_type": "code",
    "executionInfo": {
     "elapsed": 422,
     "status": "ok",
     "timestamp": 1576133744449,
     "user": {
      "displayName": "Hyunsoo Kim",
      "photoUrl": "",
      "userId": "13555375600564903636"
     },
     "user_tz": 300
    },
    "id": "AWAsZUyvMLBT",
    "outputId": "14536314-0d07-4c8d-9944-11c2fe631a45"
   },
   "outputs": [
    {
     "data": {
      "text/plain": [
       "count    250.000000\n",
       "mean       0.000245\n",
       "std        0.012670\n",
       "min       -0.042424\n",
       "25%       -0.005984\n",
       "50%        0.000000\n",
       "75%        0.007890\n",
       "max        0.054878\n",
       "Name: Cash Price, dtype: float64"
      ]
     },
     "execution_count": 37,
     "metadata": {},
     "output_type": "execute_result"
    }
   ],
   "source": [
    "corn.describe()"
   ]
  },
  {
   "cell_type": "code",
   "execution_count": 38,
   "metadata": {
    "colab": {
     "base_uri": "https://localhost:8080/",
     "height": 34
    },
    "colab_type": "code",
    "executionInfo": {
     "elapsed": 347,
     "status": "ok",
     "timestamp": 1576133745003,
     "user": {
      "displayName": "Hyunsoo Kim",
      "photoUrl": "",
      "userId": "13555375600564903636"
     },
     "user_tz": 300
    },
    "id": "irrDuEpesoN0",
    "outputId": "9c2d0a9b-4c2e-4de6-ac0b-c22ea4756ba4"
   },
   "outputs": [
    {
     "data": {
      "text/plain": [
       "0.00016051866337383217"
      ]
     },
     "execution_count": 38,
     "metadata": {},
     "output_type": "execute_result"
    }
   ],
   "source": [
    "corn.var()"
   ]
  },
  {
   "cell_type": "code",
   "execution_count": 39,
   "metadata": {
    "colab": {
     "base_uri": "https://localhost:8080/",
     "height": 170
    },
    "colab_type": "code",
    "executionInfo": {
     "elapsed": 420,
     "status": "ok",
     "timestamp": 1576133745754,
     "user": {
      "displayName": "Hyunsoo Kim",
      "photoUrl": "",
      "userId": "13555375600564903636"
     },
     "user_tz": 300
    },
    "id": "o5WVF8CqMPL9",
    "outputId": "13465f21-40de-4bc0-f73b-0a6535b3965e"
   },
   "outputs": [
    {
     "data": {
      "text/plain": [
       "count    250.000000\n",
       "mean      -0.000233\n",
       "std        0.010749\n",
       "min       -0.040979\n",
       "25%       -0.004818\n",
       "50%        0.000365\n",
       "75%        0.005407\n",
       "max        0.049594\n",
       "Name: 4. close, dtype: float64"
      ]
     },
     "execution_count": 39,
     "metadata": {},
     "output_type": "execute_result"
    }
   ],
   "source": [
    "sp500_close.describe()"
   ]
  },
  {
   "cell_type": "code",
   "execution_count": 40,
   "metadata": {
    "colab": {
     "base_uri": "https://localhost:8080/",
     "height": 34
    },
    "colab_type": "code",
    "executionInfo": {
     "elapsed": 236,
     "status": "ok",
     "timestamp": 1576133746180,
     "user": {
      "displayName": "Hyunsoo Kim",
      "photoUrl": "",
      "userId": "13555375600564903636"
     },
     "user_tz": 300
    },
    "id": "U8_tR6G5ssNb",
    "outputId": "5a0a16c1-6408-424b-e745-2bb09c46e5d6"
   },
   "outputs": [
    {
     "data": {
      "text/plain": [
       "0.00011555110314200734"
      ]
     },
     "execution_count": 40,
     "metadata": {},
     "output_type": "execute_result"
    }
   ],
   "source": [
    "sp500_close.var()"
   ]
  },
  {
   "cell_type": "markdown",
   "metadata": {
    "colab_type": "text",
    "id": "sfYfgEt9V0kC"
   },
   "source": [
    "Part 3.\n",
    "\n",
    "Section A. Using scikit-learn, perform five linear regressions for each of the five assets against the S&P 500. Y should be % change S&P 500. X should be % change for each asset."
   ]
  },
  {
   "cell_type": "code",
   "execution_count": 41,
   "metadata": {
    "colab": {},
    "colab_type": "code",
    "id": "Ip7ctDG2V-vR"
   },
   "outputs": [],
   "source": [
    "from sklearn import linear_model\n",
    "from sklearn.metrics import mean_squared_error, r2_score\n",
    "reg = linear_model.LinearRegression()"
   ]
  },
  {
   "cell_type": "code",
   "execution_count": 42,
   "metadata": {
    "colab": {},
    "colab_type": "code",
    "id": "uTkZskdlXRd_"
   },
   "outputs": [],
   "source": [
    "# linear palladium vs sp500\n",
    "dfpalladium = pd.DataFrame(palladium).astype(float)\n",
    "dfpalladium.columns = ['% change Palladium']\n",
    "dfsp500 = pd.DataFrame(sp500_close)\n",
    "dfsp500.columns = ['% change S&P 500']\n",
    "regpalladium = reg.fit(dfpalladium[1:len(dfsp500)][['% change Palladium']], dfsp500[1:][['% change S&P 500']])\n",
    "palladium_pred = reg.predict(dfpalladium[1:][['% change Palladium']])"
   ]
  },
  {
   "cell_type": "code",
   "execution_count": 43,
   "metadata": {
    "colab": {},
    "colab_type": "code",
    "id": "kgX4Sm_dX_Cx"
   },
   "outputs": [],
   "source": [
    "# linear gold vs sp500\n",
    "gold.columns = ['% change Gold']\n",
    "reggold = reg.fit(gold[1:len(dfsp500)][['% change Gold']], dfsp500[1:][['% change S&P 500']])\n",
    "gold_pred = reg.predict(gold[1:][['% change Gold']])"
   ]
  },
  {
   "cell_type": "code",
   "execution_count": 44,
   "metadata": {
    "colab": {},
    "colab_type": "code",
    "id": "iyfG5XgogMIZ"
   },
   "outputs": [],
   "source": [
    "# linear bitcoin vs sp500\n",
    "bitcoin.columns = ['% change Bitcoin']\n",
    "regbitcoin = reg.fit(bitcoin[1:len(dfsp500)][['% change Bitcoin']], dfsp500[1:][['% change S&P 500']])\n",
    "bitcoin_pred = reg.predict(bitcoin[1:][['% change Bitcoin']])"
   ]
  },
  {
   "cell_type": "code",
   "execution_count": 45,
   "metadata": {
    "colab": {},
    "colab_type": "code",
    "id": "6ZXK38N52EK5"
   },
   "outputs": [],
   "source": [
    "# linear platinum vs sp500\n",
    "dfplatinum = pd.DataFrame(platinum)\n",
    "dfplatinum.columns = ['% change Platinum']\n",
    "regplatinum = reg.fit(dfplatinum[1:len(dfsp500)][['% change Platinum']], dfsp500[1:][['% change S&P 500']])\n",
    "platinum_pred = reg.predict(dfplatinum[1:][['% change Platinum']])"
   ]
  },
  {
   "cell_type": "code",
   "execution_count": 46,
   "metadata": {
    "colab": {},
    "colab_type": "code",
    "id": "gh3wV9eJ6ntT"
   },
   "outputs": [],
   "source": [
    "# linear corn vs sp500\n",
    "dfcorn = pd.DataFrame(corn)\n",
    "dfcorn.columns = ['% change Corn']\n",
    "regcorn = reg.fit(dfcorn[1:][['% change Corn']], dfsp500[1:][['% change S&P 500']])\n",
    "corn_pred = reg.predict(dfcorn[1:][['% change Corn']])"
   ]
  },
  {
   "cell_type": "markdown",
   "metadata": {
    "colab_type": "text",
    "id": "0csIVdp0AfID"
   },
   "source": [
    "Section B. For each regression, plot the samples and the linear model. Label the Y axis as S&P 500 and the X axis as each asset."
   ]
  },
  {
   "cell_type": "code",
   "execution_count": 47,
   "metadata": {
    "colab": {
     "base_uri": "https://localhost:8080/",
     "height": 34
    },
    "colab_type": "code",
    "executionInfo": {
     "elapsed": 300,
     "status": "ok",
     "timestamp": 1576133751686,
     "user": {
      "displayName": "Hyunsoo Kim",
      "photoUrl": "",
      "userId": "13555375600564903636"
     },
     "user_tz": 300
    },
    "id": "fOmVthO98Ivh",
    "outputId": "b47708c8-c963-4618-b948-3f469eb02dd7"
   },
   "outputs": [
    {
     "data": {
      "text/plain": [
       "[<matplotlib.lines.Line2D at 0x2d8d56284e0>]"
      ]
     },
     "execution_count": 47,
     "metadata": {},
     "output_type": "execute_result"
    },
    {
     "data": {
      "image/png": "[encoded data removed]",
      "text/plain": [
       "<Figure size 1152x720 with 1 Axes>"
      ]
     },
     "metadata": {
      "needs_background": "light"
     },
     "output_type": "display_data"
    }
   ],
   "source": [
    "# palladium\n",
    "plt.xlabel('Palladium')\n",
    "plt.ylabel('S&P 500')\n",
    "plt.scatter(dfpalladium[:len(dfsp500)]['% change Palladium'], dfsp500['% change S&P 500'])\n",
    "plt.plot(dfpalladium[1:]['% change Palladium'], palladium_pred)"
   ]
  },
  {
   "cell_type": "code",
   "execution_count": 48,
   "metadata": {
    "colab": {
     "base_uri": "https://localhost:8080/",
     "height": 34
    },
    "colab_type": "code",
    "executionInfo": {
     "elapsed": 615,
     "status": "ok",
     "timestamp": 1576133752502,
     "user": {
      "displayName": "Hyunsoo Kim",
      "photoUrl": "",
      "userId": "13555375600564903636"
     },
     "user_tz": 300
    },
    "id": "e4ByL0Yk_-1H",
    "outputId": "8ee6cf45-6159-4bac-c2cf-26f7a388100f"
   },
   "outputs": [
    {
     "data": {
      "text/plain": [
       "[<matplotlib.lines.Line2D at 0x2d8d5c40d30>]"
      ]
     },
     "execution_count": 48,
     "metadata": {},
     "output_type": "execute_result"
    },
    {
     "data": {
      "image/png": "[encoded data removed]",
      "text/plain": [
       "<Figure size 1152x720 with 1 Axes>"
      ]
     },
     "metadata": {
      "needs_background": "light"
     },
     "output_type": "display_data"
    }
   ],
   "source": [
    "# gold\n",
    "plt.xlabel('Gold')\n",
    "plt.ylabel('S&P 500')\n",
    "plt.scatter(gold[:len(dfsp500)]['% change Gold'], dfsp500['% change S&P 500'])\n",
    "plt.plot(gold[1:]['% change Gold'], gold_pred)"
   ]
  },
  {
   "cell_type": "code",
   "execution_count": 49,
   "metadata": {
    "colab": {
     "base_uri": "https://localhost:8080/",
     "height": 34
    },
    "colab_type": "code",
    "executionInfo": {
     "elapsed": 288,
     "status": "ok",
     "timestamp": 1576133752716,
     "user": {
      "displayName": "Hyunsoo Kim",
      "photoUrl": "",
      "userId": "13555375600564903636"
     },
     "user_tz": 300
    },
    "id": "H-RoRhclBL05",
    "outputId": "1de88963-58bc-406b-aea1-4c8ad540e14e"
   },
   "outputs": [
    {
     "data": {
      "text/plain": [
       "[<matplotlib.lines.Line2D at 0x2d8d5b66f60>]"
      ]
     },
     "execution_count": 49,
     "metadata": {},
     "output_type": "execute_result"
    },
    {
     "data": {
      "image/png": "[encoded data removed]",
      "text/plain": [
       "<Figure size 1152x720 with 1 Axes>"
      ]
     },
     "metadata": {
      "needs_background": "light"
     },
     "output_type": "display_data"
    }
   ],
   "source": [
    "# bitcoin\n",
    "plt.xlabel('Bitcoin')\n",
    "plt.ylabel('S&P 500')\n",
    "plt.scatter(bitcoin[:len(dfsp500)]['% change Bitcoin'], dfsp500['% change S&P 500'])\n",
    "plt.plot(bitcoin[1:]['% change Bitcoin'], bitcoin_pred)"
   ]
  },
  {
   "cell_type": "code",
   "execution_count": 50,
   "metadata": {
    "colab": {
     "base_uri": "https://localhost:8080/",
     "height": 34
    },
    "colab_type": "code",
    "executionInfo": {
     "elapsed": 299,
     "status": "ok",
     "timestamp": 1576133753294,
     "user": {
      "displayName": "Hyunsoo Kim",
      "photoUrl": "",
      "userId": "13555375600564903636"
     },
     "user_tz": 300
    },
    "id": "59Hi-cvmBaQQ",
    "outputId": "1a0f10f8-4f16-4517-8936-cb5e63dcc843"
   },
   "outputs": [
    {
     "data": {
      "text/plain": [
       "[<matplotlib.lines.Line2D at 0x2d8d5bad710>]"
      ]
     },
     "execution_count": 50,
     "metadata": {},
     "output_type": "execute_result"
    },
    {
     "data": {
      "image/png": "[encoded data removed]",
      "text/plain": [
       "<Figure size 1152x720 with 1 Axes>"
      ]
     },
     "metadata": {
      "needs_background": "light"
     },
     "output_type": "display_data"
    }
   ],
   "source": [
    "# platinum\n",
    "plt.xlabel('Platinum')\n",
    "plt.ylabel('S&P 500')\n",
    "plt.scatter(dfplatinum[:len(dfsp500)]['% change Platinum'], dfsp500['% change S&P 500'])\n",
    "plt.plot(dfplatinum[1:]['% change Platinum'], platinum_pred)"
   ]
  },
  {
   "cell_type": "code",
   "execution_count": 51,
   "metadata": {
    "colab": {
     "base_uri": "https://localhost:8080/",
     "height": 34
    },
    "colab_type": "code",
    "executionInfo": {
     "elapsed": 402,
     "status": "ok",
     "timestamp": 1576133753931,
     "user": {
      "displayName": "Hyunsoo Kim",
      "photoUrl": "",
      "userId": "13555375600564903636"
     },
     "user_tz": 300
    },
    "id": "3pOC2ITuBrhR",
    "outputId": "8f010691-bdac-4722-d1ac-395f4c0bc45a"
   },
   "outputs": [
    {
     "data": {
      "text/plain": [
       "[<matplotlib.lines.Line2D at 0x2d8d5c140b8>]"
      ]
     },
     "execution_count": 51,
     "metadata": {},
     "output_type": "execute_result"
    },
    {
     "data": {
      "image/png": "[encoded data removed]",
      "text/plain": [
       "<Figure size 1152x720 with 1 Axes>"
      ]
     },
     "metadata": {
      "needs_background": "light"
     },
     "output_type": "display_data"
    }
   ],
   "source": [
    "# corn\n",
    "plt.xlabel('Corn')\n",
    "plt.ylabel('S&P 500')\n",
    "plt.scatter(dfcorn['% change Corn'], dfsp500['% change S&P 500'])\n",
    "plt.plot(dfcorn[1:]['% change Corn'], corn_pred)"
   ]
  },
  {
   "cell_type": "markdown",
   "metadata": {
    "colab_type": "text",
    "id": "3HJ44jl_ItMR"
   },
   "source": [
    "Section C. Calculate and display the intercept, coefficient (slope), R2, and the Mean squared error."
   ]
  },
  {
   "cell_type": "code",
   "execution_count": 52,
   "metadata": {
    "colab": {
     "base_uri": "https://localhost:8080/",
     "height": 85
    },
    "colab_type": "code",
    "executionInfo": {
     "elapsed": 349,
     "status": "ok",
     "timestamp": 1576133755003,
     "user": {
      "displayName": "Hyunsoo Kim",
      "photoUrl": "",
      "userId": "13555375600564903636"
     },
     "user_tz": 300
    },
    "id": "7ZAYzTlQI0a3",
    "outputId": "d5d9bf78-e368-449b-d2d8-1334042416b2"
   },
   "outputs": [
    {
     "name": "stdout",
     "output_type": "stream",
     "text": [
      "Intercept:  [-0.00023524]\n",
      "Coefficient:  [[0.00953853]]\n",
      "R2:  0.007494160102065273\n",
      "Mean Squared error:  0.00011422640409639049\n"
     ]
    }
   ],
   "source": [
    "# palladium\n",
    "print(\"Intercept: \", regpalladium.intercept_)\n",
    "print(\"Coefficient: \", regpalladium.coef_)\n",
    "print('R2: ', r2_score(dfsp500[1:]['% change S&P 500'], palladium_pred[:len(dfsp500) - 1]))\n",
    "print(\"Mean Squared error: \", mean_squared_error(dfsp500[1:]['% change S&P 500'], palladium_pred[:len(dfsp500) - 1]))"
   ]
  },
  {
   "cell_type": "code",
   "execution_count": 53,
   "metadata": {
    "colab": {
     "base_uri": "https://localhost:8080/",
     "height": 85
    },
    "colab_type": "code",
    "executionInfo": {
     "elapsed": 262,
     "status": "ok",
     "timestamp": 1576133755518,
     "user": {
      "displayName": "Hyunsoo Kim",
      "photoUrl": "",
      "userId": "13555375600564903636"
     },
     "user_tz": 300
    },
    "id": "XSRxUFaaJNEP",
    "outputId": "d116d912-263d-46d5-ec9c-96e43c2cc3ff"
   },
   "outputs": [
    {
     "name": "stdout",
     "output_type": "stream",
     "text": [
      "Intercept: [-0.00023524]\n",
      "Coefficient: [[0.00953853]]\n",
      "R2:  0.004941310944051702\n",
      "Mean Squared error:  0.00011452020869460867\n"
     ]
    }
   ],
   "source": [
    "# gold\n",
    "print(\"Intercept:\",reggold.intercept_)\n",
    "print(\"Coefficient:\",reggold.coef_)\n",
    "print('R2: ', r2_score(dfsp500[1:]['% change S&P 500'], gold_pred[:len(dfsp500) - 1]))\n",
    "print(\"Mean Squared error: \", mean_squared_error(dfsp500[1:]['% change S&P 500'], gold_pred[:len(dfsp500) - 1]))"
   ]
  },
  {
   "cell_type": "code",
   "execution_count": 54,
   "metadata": {
    "colab": {
     "base_uri": "https://localhost:8080/",
     "height": 85
    },
    "colab_type": "code",
    "executionInfo": {
     "elapsed": 284,
     "status": "ok",
     "timestamp": 1576133756194,
     "user": {
      "displayName": "Hyunsoo Kim",
      "photoUrl": "",
      "userId": "13555375600564903636"
     },
     "user_tz": 300
    },
    "id": "3KJK2BYUJbll",
    "outputId": "de074ad6-35dc-4fe8-ec4b-f4ca5d7ce673"
   },
   "outputs": [
    {
     "name": "stdout",
     "output_type": "stream",
     "text": [
      "Intercept: [-0.00023524]\n",
      "Coefficient: [[0.00953853]]\n",
      "R2:  0.0009362897614328958\n",
      "Mean Squared error:  0.00011498114217190434\n"
     ]
    }
   ],
   "source": [
    "# bitcoin\n",
    "print(\"Intercept:\",regbitcoin.intercept_)\n",
    "print(\"Coefficient:\",regbitcoin.coef_)\n",
    "print('R2: ', r2_score(dfsp500[1:]['% change S&P 500'], bitcoin_pred[:len(dfsp500) - 1]))\n",
    "print(\"Mean Squared error: \", mean_squared_error(dfsp500[1:]['% change S&P 500'], bitcoin_pred[:len(dfsp500) - 1]))"
   ]
  },
  {
   "cell_type": "code",
   "execution_count": 55,
   "metadata": {
    "colab": {
     "base_uri": "https://localhost:8080/",
     "height": 85
    },
    "colab_type": "code",
    "executionInfo": {
     "elapsed": 351,
     "status": "ok",
     "timestamp": 1576133756973,
     "user": {
      "displayName": "Hyunsoo Kim",
      "photoUrl": "",
      "userId": "13555375600564903636"
     },
     "user_tz": 300
    },
    "id": "0w-Q5lrAJq4D",
    "outputId": "dedfa22b-86d2-43db-d08e-a3e55ddfcb98"
   },
   "outputs": [
    {
     "name": "stdout",
     "output_type": "stream",
     "text": [
      "Intercept: [-0.00023524]\n",
      "Coefficient: [[0.00953853]]\n",
      "R2:  0.016645910525782015\n",
      "Mean Squared error:  0.00011317313921867826\n"
     ]
    }
   ],
   "source": [
    "# platinum\n",
    "print(\"Intercept:\",regplatinum.intercept_)\n",
    "print(\"Coefficient:\",regplatinum.coef_)\n",
    "print('R2: ', r2_score(dfsp500[1:]['% change S&P 500'], platinum_pred[:len(dfsp500) - 1]))\n",
    "print(\"Mean Squared error: \", mean_squared_error(dfsp500[1:]['% change S&P 500'], platinum_pred[:len(dfsp500) - 1]))"
   ]
  },
  {
   "cell_type": "code",
   "execution_count": 56,
   "metadata": {
    "colab": {
     "base_uri": "https://localhost:8080/",
     "height": 85
    },
    "colab_type": "code",
    "executionInfo": {
     "elapsed": 178,
     "status": "ok",
     "timestamp": 1576133757422,
     "user": {
      "displayName": "Hyunsoo Kim",
      "photoUrl": "",
      "userId": "13555375600564903636"
     },
     "user_tz": 300
    },
    "id": "jyxB1mDCJ6QZ",
    "outputId": "5bf5f330-fb00-48c9-aebc-203c276c4897"
   },
   "outputs": [
    {
     "name": "stdout",
     "output_type": "stream",
     "text": [
      "Intercept: [-0.00023524]\n",
      "Coefficient: [[0.00953853]]\n",
      "R2:  0.00012639056604701882\n",
      "Mean Squared error:  0.00011507435257838315\n"
     ]
    }
   ],
   "source": [
    "# corn\n",
    "print(\"Intercept:\",regcorn.intercept_)\n",
    "print(\"Coefficient:\",regcorn.coef_)\n",
    "print('R2: ', r2_score(dfsp500[1:]['% change S&P 500'], corn_pred))\n",
    "print(\"Mean Squared error: \", mean_squared_error(dfsp500[1:]['% change S&P 500'], corn_pred))"
   ]
  },
  {
   "cell_type": "markdown",
   "metadata": {
    "colab_type": "text",
    "id": "z_nJNGjevJH8"
   },
   "source": [
    "Section D. Which asset is highly correlated with the S&P 500 and which asset is the least correlated?"
   ]
  },
  {
   "cell_type": "code",
   "execution_count": 57,
   "metadata": {
    "colab": {},
    "colab_type": "code",
    "id": "QQpc6521vScT"
   },
   "outputs": [],
   "source": [
    "a = palladium.corr(sp500_close)"
   ]
  },
  {
   "cell_type": "code",
   "execution_count": 58,
   "metadata": {
    "colab": {},
    "colab_type": "code",
    "id": "yYXtwnnzBrag"
   },
   "outputs": [],
   "source": [
    "b = platinum.corr(sp500_close)"
   ]
  },
  {
   "cell_type": "code",
   "execution_count": 59,
   "metadata": {
    "colab": {},
    "colab_type": "code",
    "id": "0yeWDxY4WL3I"
   },
   "outputs": [],
   "source": [
    "c = corn.corr(sp500_close)"
   ]
  },
  {
   "cell_type": "code",
   "execution_count": 60,
   "metadata": {
    "colab": {},
    "colab_type": "code",
    "id": "-mpkd5bjVjbn"
   },
   "outputs": [],
   "source": [
    "d = gold['% change Gold'].corr(sp500_close)"
   ]
  },
  {
   "cell_type": "code",
   "execution_count": 61,
   "metadata": {
    "colab": {},
    "colab_type": "code",
    "id": "f0la1rRBWELn"
   },
   "outputs": [],
   "source": [
    "e = bitcoin['% change Bitcoin'].corr(sp500_close)"
   ]
  },
  {
   "cell_type": "code",
   "execution_count": 62,
   "metadata": {
    "colab": {
     "base_uri": "https://localhost:8080/",
     "height": 204
    },
    "colab_type": "code",
    "executionInfo": {
     "elapsed": 377,
     "status": "ok",
     "timestamp": 1576133762705,
     "user": {
      "displayName": "Hyunsoo Kim",
      "photoUrl": "",
      "userId": "13555375600564903636"
     },
     "user_tz": 300
    },
    "id": "DeF7kvTjXiHD",
    "outputId": "06a470f6-d386-4536-a019-4169eb2cce63"
   },
   "outputs": [
    {
     "data": {
      "text/html": [
       "<div>\n",
       "<style scoped>\n",
       "    .dataframe tbody tr th:only-of-type {\n",
       "        vertical-align: middle;\n",
       "    }\n",
       "\n",
       "    .dataframe tbody tr th {\n",
       "        vertical-align: top;\n",
       "    }\n",
       "\n",
       "    .dataframe thead th {\n",
       "        text-align: right;\n",
       "    }\n",
       "</style>\n",
       "<table border=\"1\" class=\"dataframe\">\n",
       "  <thead>\n",
       "    <tr style=\"text-align: right;\">\n",
       "      <th></th>\n",
       "      <th>Correlation with S&amp;P 500</th>\n",
       "    </tr>\n",
       "  </thead>\n",
       "  <tbody>\n",
       "    <tr>\n",
       "      <th>Bitcoin</th>\n",
       "      <td>-0.080132</td>\n",
       "    </tr>\n",
       "    <tr>\n",
       "      <th>Corn</th>\n",
       "      <td>-0.003147</td>\n",
       "    </tr>\n",
       "    <tr>\n",
       "      <th>Gold</th>\n",
       "      <td>0.067121</td>\n",
       "    </tr>\n",
       "    <tr>\n",
       "      <th>Palladium</th>\n",
       "      <td>0.143270</td>\n",
       "    </tr>\n",
       "    <tr>\n",
       "      <th>Platinum</th>\n",
       "      <td>0.120954</td>\n",
       "    </tr>\n",
       "  </tbody>\n",
       "</table>\n",
       "</div>"
      ],
      "text/plain": [
       "           Correlation with S&P 500\n",
       "Bitcoin                   -0.080132\n",
       "Corn                      -0.003147\n",
       "Gold                       0.067121\n",
       "Palladium                  0.143270\n",
       "Platinum                   0.120954"
      ]
     },
     "execution_count": 62,
     "metadata": {},
     "output_type": "execute_result"
    }
   ],
   "source": [
    "dt = {'Correlation with S&P 500':[e, c, d, a, b]}\n",
    "combinecorr= pd.DataFrame(dt, columns=['Correlation with S&P 500'], index = ['Bitcoin', 'Corn', 'Gold', 'Palladium', 'Platinum'])\n",
    "combinecorr"
   ]
  },
  {
   "cell_type": "code",
   "execution_count": 63,
   "metadata": {
    "colab": {
     "base_uri": "https://localhost:8080/",
     "height": 51
    },
    "colab_type": "code",
    "executionInfo": {
     "elapsed": 286,
     "status": "ok",
     "timestamp": 1576133763412,
     "user": {
      "displayName": "Hyunsoo Kim",
      "photoUrl": "",
      "userId": "13555375600564903636"
     },
     "user_tz": 300
    },
    "id": "jxTJt_wsfOc8",
    "outputId": "f82be9b9-e5e7-457d-a39a-0576c5139639"
   },
   "outputs": [
    {
     "name": "stdout",
     "output_type": "stream",
     "text": [
      "The higlest Correlation with S&P 500    Palladium\n",
      "dtype: object\n"
     ]
    }
   ],
   "source": [
    "print(\"The higlest\", combinecorr.idxmax(axis=0, skipna=True))"
   ]
  },
  {
   "cell_type": "code",
   "execution_count": 64,
   "metadata": {
    "colab": {
     "base_uri": "https://localhost:8080/",
     "height": 51
    },
    "colab_type": "code",
    "executionInfo": {
     "elapsed": 136,
     "status": "ok",
     "timestamp": 1576133764233,
     "user": {
      "displayName": "Hyunsoo Kim",
      "photoUrl": "",
      "userId": "13555375600564903636"
     },
     "user_tz": 300
    },
    "id": "L2wS3HXXmSju",
    "outputId": "3f000789-33a1-46e1-99b4-d9770043286f"
   },
   "outputs": [
    {
     "name": "stdout",
     "output_type": "stream",
     "text": [
      "The lowest Correlation with S&P 500    Bitcoin\n",
      "dtype: object\n"
     ]
    }
   ],
   "source": [
    "print(\"The lowest\", combinecorr.idxmin(axis=0, skipna=True))"
   ]
  },
  {
   "cell_type": "code",
   "execution_count": null,
   "metadata": {
    "colab": {},
    "colab_type": "code",
    "id": "9xhuqedn5KMG"
   },
   "outputs": [],
   "source": []
  }
 ],
 "metadata": {
  "colab": {
   "collapsed_sections": [],
   "name": "Python Project.ipynb",
   "provenance": []
  },
  "kernelspec": {
   "display_name": "Python 3",
   "language": "python",
   "name": "python3"
  },
  "language_info": {
   "codemirror_mode": {
    "name": "ipython",
    "version": 3
   },
   "file_extension": ".py",
   "mimetype": "text/x-python",
   "name": "python",
   "nbconvert_exporter": "python",
   "pygments_lexer": "ipython3",
   "version": "3.7.3"
  }
 },
 "nbformat": 4,
 "nbformat_minor": 1
}
